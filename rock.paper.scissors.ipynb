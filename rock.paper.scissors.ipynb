{
 "cells": [
  {
   "cell_type": "code",
   "execution_count": 27,
   "id": "b24d40f3",
   "metadata": {},
   "outputs": [
    {
     "name": "stdout",
     "output_type": "stream",
     "text": [
      "You chose: rock,computer chose paper\n",
      "CPU wins!\n"
     ]
    }
   ],
   "source": [
    "import random\n",
    "\n",
    "user_choice = input(\"Please enter your choice(rock, paper, or scissors): \")\n",
    "choices = [\"rock\", \"paper\", \"scissors\"]\n",
    "computer_choice = random.choice(choices)\n",
    "print(f\"You chose: {user_choice},computer chose {computer_choice}\")\n",
    "if user_choice == computer_choice:\n",
    "    print(\"It is a tie\")\n",
    "elif(user_choice == \"rock\" and computer_choice ==\"scissors\") or \\\n",
    "    (user_choice == \"scissors\" and computer_choice == \"paper\") or \\\n",
    "    (user_choice == \"paper\" and computer_choice == \"rock\"):\n",
    "        print(\"Congratulations you win!\")\n",
    "else:\n",
    "    print(\"CPU wins!\")"
   ]
  }
 ],
 "metadata": {
  "kernelspec": {
   "display_name": "Python 3",
   "language": "python",
   "name": "python3"
  },
  "language_info": {
   "codemirror_mode": {
    "name": "ipython",
    "version": 3
   },
   "file_extension": ".py",
   "mimetype": "text/x-python",
   "name": "python",
   "nbconvert_exporter": "python",
   "pygments_lexer": "ipython3",
   "version": "3.14.0"
  }
 },
 "nbformat": 4,
 "nbformat_minor": 5
}
